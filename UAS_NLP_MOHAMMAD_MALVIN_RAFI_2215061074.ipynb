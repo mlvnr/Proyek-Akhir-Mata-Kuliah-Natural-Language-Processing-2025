{
  "nbformat": 4,
  "nbformat_minor": 0,
  "metadata": {
    "colab": {
      "provenance": [],
      "gpuType": "T4",
      "authorship_tag": "ABX9TyMJnmX74ii9NKtt4JIPn9No",
      "include_colab_link": true
    },
    "kernelspec": {
      "name": "python3",
      "display_name": "Python 3"
    },
    "language_info": {
      "name": "python"
    }
  },
  "cells": [
    {
      "cell_type": "markdown",
      "metadata": {
        "id": "view-in-github",
        "colab_type": "text"
      },
      "source": [
        "<a href=\"https://colab.research.google.com/github/mlvnr/Proyek-Akhir-Mata-Kuliah-Natural-Language-Processing-2025/blob/main/UAS_NLP_MOHAMMAD_MALVIN_RAFI_2215061074.ipynb\" target=\"_parent\"><img src=\"https://colab.research.google.com/assets/colab-badge.svg\" alt=\"Open In Colab\"/></a>"
      ]
    },
    {
      "cell_type": "markdown",
      "source": [
        "# Penyiapan File Dataset"
      ],
      "metadata": {
        "id": "6Q7h3-wtCnxb"
      }
    },
    {
      "cell_type": "code",
      "source": [
        "from google.colab import drive\n",
        "drive.mount('/content/drive')"
      ],
      "metadata": {
        "colab": {
          "base_uri": "https://localhost:8080/"
        },
        "id": "q-W9qc4HsSe9",
        "outputId": "00bb6c6f-67bb-4996-b9ee-84bf5b915986"
      },
      "execution_count": null,
      "outputs": [
        {
          "output_type": "stream",
          "name": "stdout",
          "text": [
            "Mounted at /content/drive\n"
          ]
        }
      ]
    },
    {
      "cell_type": "code",
      "source": [
        "file_path = '/content/drive/MyDrive/NLP/data buku berdasarkan class.xlsx'"
      ],
      "metadata": {
        "id": "o306FHygsosX"
      },
      "execution_count": null,
      "outputs": []
    },
    {
      "cell_type": "markdown",
      "source": [
        "Memuat dataset, membuat dataframe, dan menentukan kolom yang ingin digunakan"
      ],
      "metadata": {
        "id": "xbgtpocTC0Cd"
      }
    },
    {
      "cell_type": "code",
      "source": [
        "import pandas as pd\n",
        "\n",
        "file_path = '/content/drive/MyDrive/NLP/data buku berdasarkan class.xlsx'\n",
        "\n",
        "df = pd.read_excel(file_path, sheet_name='master -backup', skiprows=1)\n",
        "df.columns = ['Class', 'Judul_Utama', 'Anak_Judul']\n",
        "df"
      ],
      "metadata": {
        "colab": {
          "base_uri": "https://localhost:8080/",
          "height": 423
        },
        "id": "s5Pve9_AyJ-_",
        "outputId": "e0390714-18ff-481a-ecc1-9edca6e13e38"
      },
      "execution_count": null,
      "outputs": [
        {
          "output_type": "execute_result",
          "data": {
            "text/plain": [
              "        Class                 Judul_Utama  \\\n",
              "0         150              Fisika dasar     \n",
              "1         150              Fisika dasar     \n",
              "2         150              Fisika dasar     \n",
              "3         150              Fisika dasar     \n",
              "4         150              Fisika dasar     \n",
              "...       ...                         ...   \n",
              "161524    550      Ahlulbait & Al- Quran    \n",
              "161525    550      Ahlulbait & Al- Quran    \n",
              "161526    550              Roadmap To GOD   \n",
              "161527    550              Roadmap To GOD   \n",
              "161528    550  Ragam Pusaka Budaya Banten   \n",
              "\n",
              "                                               Anak_Judul  \n",
              "0       listrik-magnet,optika, fisika modern untuk mah...  \n",
              "1       listrik-magnet,optika, fisika modern untuk mah...  \n",
              "2       listrik-magnet,optika, fisika modern untuk mah...  \n",
              "3       listrik-magnet,optika, fisika modern untuk mah...  \n",
              "4       listrik-magnet,optika, fisika modern untuk mah...  \n",
              "...                                                   ...  \n",
              "161524                      Warisan Abadi Nabi yang Suci   \n",
              "161525                      Warisan Abadi Nabi yang Suci   \n",
              "161526     Meniti Kesempurnaan Akhlak dan Kesucian Rohani  \n",
              "161527     Meniti Kesempurnaan Akhlak dan Kesucian Rohani  \n",
              "161528                                                NaN  \n",
              "\n",
              "[161529 rows x 3 columns]"
            ],
            "text/html": [
              "\n",
              "  <div id=\"df-ace884a3-5906-4fab-a251-d09342b2bcda\" class=\"colab-df-container\">\n",
              "    <div>\n",
              "<style scoped>\n",
              "    .dataframe tbody tr th:only-of-type {\n",
              "        vertical-align: middle;\n",
              "    }\n",
              "\n",
              "    .dataframe tbody tr th {\n",
              "        vertical-align: top;\n",
              "    }\n",
              "\n",
              "    .dataframe thead th {\n",
              "        text-align: right;\n",
              "    }\n",
              "</style>\n",
              "<table border=\"1\" class=\"dataframe\">\n",
              "  <thead>\n",
              "    <tr style=\"text-align: right;\">\n",
              "      <th></th>\n",
              "      <th>Class</th>\n",
              "      <th>Judul_Utama</th>\n",
              "      <th>Anak_Judul</th>\n",
              "    </tr>\n",
              "  </thead>\n",
              "  <tbody>\n",
              "    <tr>\n",
              "      <th>0</th>\n",
              "      <td>150</td>\n",
              "      <td>Fisika dasar</td>\n",
              "      <td>listrik-magnet,optika, fisika modern untuk mah...</td>\n",
              "    </tr>\n",
              "    <tr>\n",
              "      <th>1</th>\n",
              "      <td>150</td>\n",
              "      <td>Fisika dasar</td>\n",
              "      <td>listrik-magnet,optika, fisika modern untuk mah...</td>\n",
              "    </tr>\n",
              "    <tr>\n",
              "      <th>2</th>\n",
              "      <td>150</td>\n",
              "      <td>Fisika dasar</td>\n",
              "      <td>listrik-magnet,optika, fisika modern untuk mah...</td>\n",
              "    </tr>\n",
              "    <tr>\n",
              "      <th>3</th>\n",
              "      <td>150</td>\n",
              "      <td>Fisika dasar</td>\n",
              "      <td>listrik-magnet,optika, fisika modern untuk mah...</td>\n",
              "    </tr>\n",
              "    <tr>\n",
              "      <th>4</th>\n",
              "      <td>150</td>\n",
              "      <td>Fisika dasar</td>\n",
              "      <td>listrik-magnet,optika, fisika modern untuk mah...</td>\n",
              "    </tr>\n",
              "    <tr>\n",
              "      <th>...</th>\n",
              "      <td>...</td>\n",
              "      <td>...</td>\n",
              "      <td>...</td>\n",
              "    </tr>\n",
              "    <tr>\n",
              "      <th>161524</th>\n",
              "      <td>550</td>\n",
              "      <td>Ahlulbait &amp; Al- Quran</td>\n",
              "      <td>Warisan Abadi Nabi yang Suci</td>\n",
              "    </tr>\n",
              "    <tr>\n",
              "      <th>161525</th>\n",
              "      <td>550</td>\n",
              "      <td>Ahlulbait &amp; Al- Quran</td>\n",
              "      <td>Warisan Abadi Nabi yang Suci</td>\n",
              "    </tr>\n",
              "    <tr>\n",
              "      <th>161526</th>\n",
              "      <td>550</td>\n",
              "      <td>Roadmap To GOD</td>\n",
              "      <td>Meniti Kesempurnaan Akhlak dan Kesucian Rohani</td>\n",
              "    </tr>\n",
              "    <tr>\n",
              "      <th>161527</th>\n",
              "      <td>550</td>\n",
              "      <td>Roadmap To GOD</td>\n",
              "      <td>Meniti Kesempurnaan Akhlak dan Kesucian Rohani</td>\n",
              "    </tr>\n",
              "    <tr>\n",
              "      <th>161528</th>\n",
              "      <td>550</td>\n",
              "      <td>Ragam Pusaka Budaya Banten</td>\n",
              "      <td>NaN</td>\n",
              "    </tr>\n",
              "  </tbody>\n",
              "</table>\n",
              "<p>161529 rows × 3 columns</p>\n",
              "</div>\n",
              "    <div class=\"colab-df-buttons\">\n",
              "\n",
              "  <div class=\"colab-df-container\">\n",
              "    <button class=\"colab-df-convert\" onclick=\"convertToInteractive('df-ace884a3-5906-4fab-a251-d09342b2bcda')\"\n",
              "            title=\"Convert this dataframe to an interactive table.\"\n",
              "            style=\"display:none;\">\n",
              "\n",
              "  <svg xmlns=\"http://www.w3.org/2000/svg\" height=\"24px\" viewBox=\"0 -960 960 960\">\n",
              "    <path d=\"M120-120v-720h720v720H120Zm60-500h600v-160H180v160Zm220 220h160v-160H400v160Zm0 220h160v-160H400v160ZM180-400h160v-160H180v160Zm440 0h160v-160H620v160ZM180-180h160v-160H180v160Zm440 0h160v-160H620v160Z\"/>\n",
              "  </svg>\n",
              "    </button>\n",
              "\n",
              "  <style>\n",
              "    .colab-df-container {\n",
              "      display:flex;\n",
              "      gap: 12px;\n",
              "    }\n",
              "\n",
              "    .colab-df-convert {\n",
              "      background-color: #E8F0FE;\n",
              "      border: none;\n",
              "      border-radius: 50%;\n",
              "      cursor: pointer;\n",
              "      display: none;\n",
              "      fill: #1967D2;\n",
              "      height: 32px;\n",
              "      padding: 0 0 0 0;\n",
              "      width: 32px;\n",
              "    }\n",
              "\n",
              "    .colab-df-convert:hover {\n",
              "      background-color: #E2EBFA;\n",
              "      box-shadow: 0px 1px 2px rgba(60, 64, 67, 0.3), 0px 1px 3px 1px rgba(60, 64, 67, 0.15);\n",
              "      fill: #174EA6;\n",
              "    }\n",
              "\n",
              "    .colab-df-buttons div {\n",
              "      margin-bottom: 4px;\n",
              "    }\n",
              "\n",
              "    [theme=dark] .colab-df-convert {\n",
              "      background-color: #3B4455;\n",
              "      fill: #D2E3FC;\n",
              "    }\n",
              "\n",
              "    [theme=dark] .colab-df-convert:hover {\n",
              "      background-color: #434B5C;\n",
              "      box-shadow: 0px 1px 3px 1px rgba(0, 0, 0, 0.15);\n",
              "      filter: drop-shadow(0px 1px 2px rgba(0, 0, 0, 0.3));\n",
              "      fill: #FFFFFF;\n",
              "    }\n",
              "  </style>\n",
              "\n",
              "    <script>\n",
              "      const buttonEl =\n",
              "        document.querySelector('#df-ace884a3-5906-4fab-a251-d09342b2bcda button.colab-df-convert');\n",
              "      buttonEl.style.display =\n",
              "        google.colab.kernel.accessAllowed ? 'block' : 'none';\n",
              "\n",
              "      async function convertToInteractive(key) {\n",
              "        const element = document.querySelector('#df-ace884a3-5906-4fab-a251-d09342b2bcda');\n",
              "        const dataTable =\n",
              "          await google.colab.kernel.invokeFunction('convertToInteractive',\n",
              "                                                    [key], {});\n",
              "        if (!dataTable) return;\n",
              "\n",
              "        const docLinkHtml = 'Like what you see? Visit the ' +\n",
              "          '<a target=\"_blank\" href=https://colab.research.google.com/notebooks/data_table.ipynb>data table notebook</a>'\n",
              "          + ' to learn more about interactive tables.';\n",
              "        element.innerHTML = '';\n",
              "        dataTable['output_type'] = 'display_data';\n",
              "        await google.colab.output.renderOutput(dataTable, element);\n",
              "        const docLink = document.createElement('div');\n",
              "        docLink.innerHTML = docLinkHtml;\n",
              "        element.appendChild(docLink);\n",
              "      }\n",
              "    </script>\n",
              "  </div>\n",
              "\n",
              "\n",
              "    <div id=\"df-91e12c9c-a5ae-41c7-8c34-05e3ea47c02f\">\n",
              "      <button class=\"colab-df-quickchart\" onclick=\"quickchart('df-91e12c9c-a5ae-41c7-8c34-05e3ea47c02f')\"\n",
              "                title=\"Suggest charts\"\n",
              "                style=\"display:none;\">\n",
              "\n",
              "<svg xmlns=\"http://www.w3.org/2000/svg\" height=\"24px\"viewBox=\"0 0 24 24\"\n",
              "     width=\"24px\">\n",
              "    <g>\n",
              "        <path d=\"M19 3H5c-1.1 0-2 .9-2 2v14c0 1.1.9 2 2 2h14c1.1 0 2-.9 2-2V5c0-1.1-.9-2-2-2zM9 17H7v-7h2v7zm4 0h-2V7h2v10zm4 0h-2v-4h2v4z\"/>\n",
              "    </g>\n",
              "</svg>\n",
              "      </button>\n",
              "\n",
              "<style>\n",
              "  .colab-df-quickchart {\n",
              "      --bg-color: #E8F0FE;\n",
              "      --fill-color: #1967D2;\n",
              "      --hover-bg-color: #E2EBFA;\n",
              "      --hover-fill-color: #174EA6;\n",
              "      --disabled-fill-color: #AAA;\n",
              "      --disabled-bg-color: #DDD;\n",
              "  }\n",
              "\n",
              "  [theme=dark] .colab-df-quickchart {\n",
              "      --bg-color: #3B4455;\n",
              "      --fill-color: #D2E3FC;\n",
              "      --hover-bg-color: #434B5C;\n",
              "      --hover-fill-color: #FFFFFF;\n",
              "      --disabled-bg-color: #3B4455;\n",
              "      --disabled-fill-color: #666;\n",
              "  }\n",
              "\n",
              "  .colab-df-quickchart {\n",
              "    background-color: var(--bg-color);\n",
              "    border: none;\n",
              "    border-radius: 50%;\n",
              "    cursor: pointer;\n",
              "    display: none;\n",
              "    fill: var(--fill-color);\n",
              "    height: 32px;\n",
              "    padding: 0;\n",
              "    width: 32px;\n",
              "  }\n",
              "\n",
              "  .colab-df-quickchart:hover {\n",
              "    background-color: var(--hover-bg-color);\n",
              "    box-shadow: 0 1px 2px rgba(60, 64, 67, 0.3), 0 1px 3px 1px rgba(60, 64, 67, 0.15);\n",
              "    fill: var(--button-hover-fill-color);\n",
              "  }\n",
              "\n",
              "  .colab-df-quickchart-complete:disabled,\n",
              "  .colab-df-quickchart-complete:disabled:hover {\n",
              "    background-color: var(--disabled-bg-color);\n",
              "    fill: var(--disabled-fill-color);\n",
              "    box-shadow: none;\n",
              "  }\n",
              "\n",
              "  .colab-df-spinner {\n",
              "    border: 2px solid var(--fill-color);\n",
              "    border-color: transparent;\n",
              "    border-bottom-color: var(--fill-color);\n",
              "    animation:\n",
              "      spin 1s steps(1) infinite;\n",
              "  }\n",
              "\n",
              "  @keyframes spin {\n",
              "    0% {\n",
              "      border-color: transparent;\n",
              "      border-bottom-color: var(--fill-color);\n",
              "      border-left-color: var(--fill-color);\n",
              "    }\n",
              "    20% {\n",
              "      border-color: transparent;\n",
              "      border-left-color: var(--fill-color);\n",
              "      border-top-color: var(--fill-color);\n",
              "    }\n",
              "    30% {\n",
              "      border-color: transparent;\n",
              "      border-left-color: var(--fill-color);\n",
              "      border-top-color: var(--fill-color);\n",
              "      border-right-color: var(--fill-color);\n",
              "    }\n",
              "    40% {\n",
              "      border-color: transparent;\n",
              "      border-right-color: var(--fill-color);\n",
              "      border-top-color: var(--fill-color);\n",
              "    }\n",
              "    60% {\n",
              "      border-color: transparent;\n",
              "      border-right-color: var(--fill-color);\n",
              "    }\n",
              "    80% {\n",
              "      border-color: transparent;\n",
              "      border-right-color: var(--fill-color);\n",
              "      border-bottom-color: var(--fill-color);\n",
              "    }\n",
              "    90% {\n",
              "      border-color: transparent;\n",
              "      border-bottom-color: var(--fill-color);\n",
              "    }\n",
              "  }\n",
              "</style>\n",
              "\n",
              "      <script>\n",
              "        async function quickchart(key) {\n",
              "          const quickchartButtonEl =\n",
              "            document.querySelector('#' + key + ' button');\n",
              "          quickchartButtonEl.disabled = true;  // To prevent multiple clicks.\n",
              "          quickchartButtonEl.classList.add('colab-df-spinner');\n",
              "          try {\n",
              "            const charts = await google.colab.kernel.invokeFunction(\n",
              "                'suggestCharts', [key], {});\n",
              "          } catch (error) {\n",
              "            console.error('Error during call to suggestCharts:', error);\n",
              "          }\n",
              "          quickchartButtonEl.classList.remove('colab-df-spinner');\n",
              "          quickchartButtonEl.classList.add('colab-df-quickchart-complete');\n",
              "        }\n",
              "        (() => {\n",
              "          let quickchartButtonEl =\n",
              "            document.querySelector('#df-91e12c9c-a5ae-41c7-8c34-05e3ea47c02f button');\n",
              "          quickchartButtonEl.style.display =\n",
              "            google.colab.kernel.accessAllowed ? 'block' : 'none';\n",
              "        })();\n",
              "      </script>\n",
              "    </div>\n",
              "\n",
              "  <div id=\"id_f7dc6d25-894a-4dc1-897d-41f34c895d90\">\n",
              "    <style>\n",
              "      .colab-df-generate {\n",
              "        background-color: #E8F0FE;\n",
              "        border: none;\n",
              "        border-radius: 50%;\n",
              "        cursor: pointer;\n",
              "        display: none;\n",
              "        fill: #1967D2;\n",
              "        height: 32px;\n",
              "        padding: 0 0 0 0;\n",
              "        width: 32px;\n",
              "      }\n",
              "\n",
              "      .colab-df-generate:hover {\n",
              "        background-color: #E2EBFA;\n",
              "        box-shadow: 0px 1px 2px rgba(60, 64, 67, 0.3), 0px 1px 3px 1px rgba(60, 64, 67, 0.15);\n",
              "        fill: #174EA6;\n",
              "      }\n",
              "\n",
              "      [theme=dark] .colab-df-generate {\n",
              "        background-color: #3B4455;\n",
              "        fill: #D2E3FC;\n",
              "      }\n",
              "\n",
              "      [theme=dark] .colab-df-generate:hover {\n",
              "        background-color: #434B5C;\n",
              "        box-shadow: 0px 1px 3px 1px rgba(0, 0, 0, 0.15);\n",
              "        filter: drop-shadow(0px 1px 2px rgba(0, 0, 0, 0.3));\n",
              "        fill: #FFFFFF;\n",
              "      }\n",
              "    </style>\n",
              "    <button class=\"colab-df-generate\" onclick=\"generateWithVariable('df')\"\n",
              "            title=\"Generate code using this dataframe.\"\n",
              "            style=\"display:none;\">\n",
              "\n",
              "  <svg xmlns=\"http://www.w3.org/2000/svg\" height=\"24px\"viewBox=\"0 0 24 24\"\n",
              "       width=\"24px\">\n",
              "    <path d=\"M7,19H8.4L18.45,9,17,7.55,7,17.6ZM5,21V16.75L18.45,3.32a2,2,0,0,1,2.83,0l1.4,1.43a1.91,1.91,0,0,1,.58,1.4,1.91,1.91,0,0,1-.58,1.4L9.25,21ZM18.45,9,17,7.55Zm-12,3A5.31,5.31,0,0,0,4.9,8.1,5.31,5.31,0,0,0,1,6.5,5.31,5.31,0,0,0,4.9,4.9,5.31,5.31,0,0,0,6.5,1,5.31,5.31,0,0,0,8.1,4.9,5.31,5.31,0,0,0,12,6.5,5.46,5.46,0,0,0,6.5,12Z\"/>\n",
              "  </svg>\n",
              "    </button>\n",
              "    <script>\n",
              "      (() => {\n",
              "      const buttonEl =\n",
              "        document.querySelector('#id_f7dc6d25-894a-4dc1-897d-41f34c895d90 button.colab-df-generate');\n",
              "      buttonEl.style.display =\n",
              "        google.colab.kernel.accessAllowed ? 'block' : 'none';\n",
              "\n",
              "      buttonEl.onclick = () => {\n",
              "        google.colab.notebook.generateWithVariable('df');\n",
              "      }\n",
              "      })();\n",
              "    </script>\n",
              "  </div>\n",
              "\n",
              "    </div>\n",
              "  </div>\n"
            ],
            "application/vnd.google.colaboratory.intrinsic+json": {
              "type": "dataframe",
              "variable_name": "df"
            }
          },
          "metadata": {},
          "execution_count": 10
        }
      ]
    },
    {
      "cell_type": "markdown",
      "source": [
        "# Pre-processing data"
      ],
      "metadata": {
        "id": "sqFuE2y5DGE-"
      }
    },
    {
      "cell_type": "markdown",
      "source": [
        "Mengubah 'nan' menjadi string kosong, lowering teks, merubah kelas, dan mengecek kolom null"
      ],
      "metadata": {
        "id": "WLpXTnaXDN_Q"
      }
    },
    {
      "cell_type": "code",
      "source": [
        "# Mengisi nilai kosong dengan string kosong ' '\n",
        "df['Judul_Utama'] = df['Judul_Utama'].fillna('')\n",
        "df['Anak_Judul'] = df['Anak_Judul'].fillna('')\n",
        "\n",
        "# Penggabungan Kolom Judul_Utama dan Anak_Judul\n",
        "df['Teks'] = (df['Judul_Utama'].str.lower() + ' ' +\n",
        "              df['Anak_Judul'].str.lower())\n",
        "\n",
        "# Mengubah kelas menjadi 1 digit\n",
        "df['Label'] = df['Class'] // 100\n",
        "\n",
        "df = df[['Teks', 'Label']]\n",
        "df.isnull().sum()"
      ],
      "metadata": {
        "colab": {
          "base_uri": "https://localhost:8080/",
          "height": 146
        },
        "id": "0QK5M-XvszSP",
        "outputId": "181e4f80-5532-44d8-e2dc-68a6ce1d58d8"
      },
      "execution_count": null,
      "outputs": [
        {
          "output_type": "execute_result",
          "data": {
            "text/plain": [
              "Teks     2\n",
              "Label    0\n",
              "dtype: int64"
            ],
            "text/html": [
              "<div>\n",
              "<style scoped>\n",
              "    .dataframe tbody tr th:only-of-type {\n",
              "        vertical-align: middle;\n",
              "    }\n",
              "\n",
              "    .dataframe tbody tr th {\n",
              "        vertical-align: top;\n",
              "    }\n",
              "\n",
              "    .dataframe thead th {\n",
              "        text-align: right;\n",
              "    }\n",
              "</style>\n",
              "<table border=\"1\" class=\"dataframe\">\n",
              "  <thead>\n",
              "    <tr style=\"text-align: right;\">\n",
              "      <th></th>\n",
              "      <th>0</th>\n",
              "    </tr>\n",
              "  </thead>\n",
              "  <tbody>\n",
              "    <tr>\n",
              "      <th>Teks</th>\n",
              "      <td>2</td>\n",
              "    </tr>\n",
              "    <tr>\n",
              "      <th>Label</th>\n",
              "      <td>0</td>\n",
              "    </tr>\n",
              "  </tbody>\n",
              "</table>\n",
              "</div><br><label><b>dtype:</b> int64</label>"
            ]
          },
          "metadata": {},
          "execution_count": 11
        }
      ]
    },
    {
      "cell_type": "markdown",
      "source": [
        "Menghapus nilai null"
      ],
      "metadata": {
        "id": "wxo3TIsUD2La"
      }
    },
    {
      "cell_type": "code",
      "source": [
        "# Cek jumlah data sebelum penghapusan\n",
        "print(\"Jumlah nilai null:\")\n",
        "print(df.isnull().sum())\n",
        "print(f\"Jumlah total baris sebelum penghapusan: {len(df)}\")\n",
        "# Hapus baris null di kolom 'Teks'\n",
        "df.dropna(subset=['Teks'], inplace=True)\n",
        "\n",
        "# Tampilkan hasil setelah penghapusan\n",
        "print(f\"Jumlah total baris setelah penghapusan: {len(df)}\")\n",
        "print(\"Jumlah nilai null:\")\n",
        "print(df.isnull().sum())"
      ],
      "metadata": {
        "colab": {
          "base_uri": "https://localhost:8080/"
        },
        "id": "SiIlY-OKnEhc",
        "outputId": "46d2e43a-447a-43f4-978f-b239727c7176"
      },
      "execution_count": null,
      "outputs": [
        {
          "output_type": "stream",
          "name": "stdout",
          "text": [
            "Jumlah nilai null:\n",
            "Teks     2\n",
            "Label    0\n",
            "dtype: int64\n",
            "Jumlah total baris sebelum penghapusan: 161529\n",
            "Jumlah total baris setelah penghapusan: 161527\n",
            "Jumlah nilai null:\n",
            "Teks     0\n",
            "Label    0\n",
            "dtype: int64\n"
          ]
        },
        {
          "output_type": "stream",
          "name": "stderr",
          "text": [
            "/tmp/ipython-input-12-1519757543.py:6: SettingWithCopyWarning: \n",
            "A value is trying to be set on a copy of a slice from a DataFrame\n",
            "\n",
            "See the caveats in the documentation: https://pandas.pydata.org/pandas-docs/stable/user_guide/indexing.html#returning-a-view-versus-a-copy\n",
            "  df.dropna(subset=['Teks'], inplace=True)\n"
          ]
        }
      ]
    },
    {
      "cell_type": "markdown",
      "source": [
        "Data cleaning"
      ],
      "metadata": {
        "id": "x-1oNS-3EP-A"
      }
    },
    {
      "cell_type": "code",
      "source": [
        "import re\n",
        "\n",
        "# Pembersihan sederhana\n",
        "def bersihkan(teks):\n",
        "    teks = teks.lower()\n",
        "    teks = re.sub(r'[^a-z\\s]', '', teks)\n",
        "    teks = teks.strip()\n",
        "    # Mengganti spasi ganda atau lebih dengan satu spasi\n",
        "    teks = re.sub(r'\\s+', ' ', teks)\n",
        "    return teks\n",
        "\n",
        "df['Judul'] = df['Teks'].apply(bersihkan)"
      ],
      "metadata": {
        "id": "-V09bycAvXwi",
        "colab": {
          "base_uri": "https://localhost:8080/"
        },
        "outputId": "fc465db8-4fdc-4bf7-8ce8-01fa626a3a66"
      },
      "execution_count": null,
      "outputs": [
        {
          "output_type": "stream",
          "name": "stderr",
          "text": [
            "/tmp/ipython-input-13-1313298253.py:12: SettingWithCopyWarning: \n",
            "A value is trying to be set on a copy of a slice from a DataFrame.\n",
            "Try using .loc[row_indexer,col_indexer] = value instead\n",
            "\n",
            "See the caveats in the documentation: https://pandas.pydata.org/pandas-docs/stable/user_guide/indexing.html#returning-a-view-versus-a-copy\n",
            "  df['Judul'] = df['Teks'].apply(bersihkan)\n"
          ]
        }
      ]
    },
    {
      "cell_type": "markdown",
      "source": [
        "Menentukan dataset final"
      ],
      "metadata": {
        "id": "jsgjEHHrES2d"
      }
    },
    {
      "cell_type": "code",
      "source": [
        "df_fix = df[['Judul','Label']]\n",
        "df_fix"
      ],
      "metadata": {
        "colab": {
          "base_uri": "https://localhost:8080/",
          "height": 423
        },
        "id": "2Rs59SZ5vfM8",
        "outputId": "f088dc09-687c-4590-b6cd-723eb60add63"
      },
      "execution_count": null,
      "outputs": [
        {
          "output_type": "execute_result",
          "data": {
            "text/plain": [
              "                                                    Judul  Label\n",
              "0       fisika dasar listrikmagnetoptika fisika modern...      1\n",
              "1       fisika dasar listrikmagnetoptika fisika modern...      1\n",
              "2       fisika dasar listrikmagnetoptika fisika modern...      1\n",
              "3       fisika dasar listrikmagnetoptika fisika modern...      1\n",
              "4       fisika dasar listrikmagnetoptika fisika modern...      1\n",
              "...                                                   ...    ...\n",
              "161524    ahlulbait al quran warisan abadi nabi yang suci      5\n",
              "161525    ahlulbait al quran warisan abadi nabi yang suci      5\n",
              "161526  roadmap to god meniti kesempurnaan akhlak dan ...      5\n",
              "161527  roadmap to god meniti kesempurnaan akhlak dan ...      5\n",
              "161528                         ragam pusaka budaya banten      5\n",
              "\n",
              "[161527 rows x 2 columns]"
            ],
            "text/html": [
              "\n",
              "  <div id=\"df-7d485f1b-89f9-4e21-a876-a3f7cf854ffa\" class=\"colab-df-container\">\n",
              "    <div>\n",
              "<style scoped>\n",
              "    .dataframe tbody tr th:only-of-type {\n",
              "        vertical-align: middle;\n",
              "    }\n",
              "\n",
              "    .dataframe tbody tr th {\n",
              "        vertical-align: top;\n",
              "    }\n",
              "\n",
              "    .dataframe thead th {\n",
              "        text-align: right;\n",
              "    }\n",
              "</style>\n",
              "<table border=\"1\" class=\"dataframe\">\n",
              "  <thead>\n",
              "    <tr style=\"text-align: right;\">\n",
              "      <th></th>\n",
              "      <th>Judul</th>\n",
              "      <th>Label</th>\n",
              "    </tr>\n",
              "  </thead>\n",
              "  <tbody>\n",
              "    <tr>\n",
              "      <th>0</th>\n",
              "      <td>fisika dasar listrikmagnetoptika fisika modern...</td>\n",
              "      <td>1</td>\n",
              "    </tr>\n",
              "    <tr>\n",
              "      <th>1</th>\n",
              "      <td>fisika dasar listrikmagnetoptika fisika modern...</td>\n",
              "      <td>1</td>\n",
              "    </tr>\n",
              "    <tr>\n",
              "      <th>2</th>\n",
              "      <td>fisika dasar listrikmagnetoptika fisika modern...</td>\n",
              "      <td>1</td>\n",
              "    </tr>\n",
              "    <tr>\n",
              "      <th>3</th>\n",
              "      <td>fisika dasar listrikmagnetoptika fisika modern...</td>\n",
              "      <td>1</td>\n",
              "    </tr>\n",
              "    <tr>\n",
              "      <th>4</th>\n",
              "      <td>fisika dasar listrikmagnetoptika fisika modern...</td>\n",
              "      <td>1</td>\n",
              "    </tr>\n",
              "    <tr>\n",
              "      <th>...</th>\n",
              "      <td>...</td>\n",
              "      <td>...</td>\n",
              "    </tr>\n",
              "    <tr>\n",
              "      <th>161524</th>\n",
              "      <td>ahlulbait al quran warisan abadi nabi yang suci</td>\n",
              "      <td>5</td>\n",
              "    </tr>\n",
              "    <tr>\n",
              "      <th>161525</th>\n",
              "      <td>ahlulbait al quran warisan abadi nabi yang suci</td>\n",
              "      <td>5</td>\n",
              "    </tr>\n",
              "    <tr>\n",
              "      <th>161526</th>\n",
              "      <td>roadmap to god meniti kesempurnaan akhlak dan ...</td>\n",
              "      <td>5</td>\n",
              "    </tr>\n",
              "    <tr>\n",
              "      <th>161527</th>\n",
              "      <td>roadmap to god meniti kesempurnaan akhlak dan ...</td>\n",
              "      <td>5</td>\n",
              "    </tr>\n",
              "    <tr>\n",
              "      <th>161528</th>\n",
              "      <td>ragam pusaka budaya banten</td>\n",
              "      <td>5</td>\n",
              "    </tr>\n",
              "  </tbody>\n",
              "</table>\n",
              "<p>161527 rows × 2 columns</p>\n",
              "</div>\n",
              "    <div class=\"colab-df-buttons\">\n",
              "\n",
              "  <div class=\"colab-df-container\">\n",
              "    <button class=\"colab-df-convert\" onclick=\"convertToInteractive('df-7d485f1b-89f9-4e21-a876-a3f7cf854ffa')\"\n",
              "            title=\"Convert this dataframe to an interactive table.\"\n",
              "            style=\"display:none;\">\n",
              "\n",
              "  <svg xmlns=\"http://www.w3.org/2000/svg\" height=\"24px\" viewBox=\"0 -960 960 960\">\n",
              "    <path d=\"M120-120v-720h720v720H120Zm60-500h600v-160H180v160Zm220 220h160v-160H400v160Zm0 220h160v-160H400v160ZM180-400h160v-160H180v160Zm440 0h160v-160H620v160ZM180-180h160v-160H180v160Zm440 0h160v-160H620v160Z\"/>\n",
              "  </svg>\n",
              "    </button>\n",
              "\n",
              "  <style>\n",
              "    .colab-df-container {\n",
              "      display:flex;\n",
              "      gap: 12px;\n",
              "    }\n",
              "\n",
              "    .colab-df-convert {\n",
              "      background-color: #E8F0FE;\n",
              "      border: none;\n",
              "      border-radius: 50%;\n",
              "      cursor: pointer;\n",
              "      display: none;\n",
              "      fill: #1967D2;\n",
              "      height: 32px;\n",
              "      padding: 0 0 0 0;\n",
              "      width: 32px;\n",
              "    }\n",
              "\n",
              "    .colab-df-convert:hover {\n",
              "      background-color: #E2EBFA;\n",
              "      box-shadow: 0px 1px 2px rgba(60, 64, 67, 0.3), 0px 1px 3px 1px rgba(60, 64, 67, 0.15);\n",
              "      fill: #174EA6;\n",
              "    }\n",
              "\n",
              "    .colab-df-buttons div {\n",
              "      margin-bottom: 4px;\n",
              "    }\n",
              "\n",
              "    [theme=dark] .colab-df-convert {\n",
              "      background-color: #3B4455;\n",
              "      fill: #D2E3FC;\n",
              "    }\n",
              "\n",
              "    [theme=dark] .colab-df-convert:hover {\n",
              "      background-color: #434B5C;\n",
              "      box-shadow: 0px 1px 3px 1px rgba(0, 0, 0, 0.15);\n",
              "      filter: drop-shadow(0px 1px 2px rgba(0, 0, 0, 0.3));\n",
              "      fill: #FFFFFF;\n",
              "    }\n",
              "  </style>\n",
              "\n",
              "    <script>\n",
              "      const buttonEl =\n",
              "        document.querySelector('#df-7d485f1b-89f9-4e21-a876-a3f7cf854ffa button.colab-df-convert');\n",
              "      buttonEl.style.display =\n",
              "        google.colab.kernel.accessAllowed ? 'block' : 'none';\n",
              "\n",
              "      async function convertToInteractive(key) {\n",
              "        const element = document.querySelector('#df-7d485f1b-89f9-4e21-a876-a3f7cf854ffa');\n",
              "        const dataTable =\n",
              "          await google.colab.kernel.invokeFunction('convertToInteractive',\n",
              "                                                    [key], {});\n",
              "        if (!dataTable) return;\n",
              "\n",
              "        const docLinkHtml = 'Like what you see? Visit the ' +\n",
              "          '<a target=\"_blank\" href=https://colab.research.google.com/notebooks/data_table.ipynb>data table notebook</a>'\n",
              "          + ' to learn more about interactive tables.';\n",
              "        element.innerHTML = '';\n",
              "        dataTable['output_type'] = 'display_data';\n",
              "        await google.colab.output.renderOutput(dataTable, element);\n",
              "        const docLink = document.createElement('div');\n",
              "        docLink.innerHTML = docLinkHtml;\n",
              "        element.appendChild(docLink);\n",
              "      }\n",
              "    </script>\n",
              "  </div>\n",
              "\n",
              "\n",
              "    <div id=\"df-f0a520ee-3a55-4d2f-80d0-4b36a268ade0\">\n",
              "      <button class=\"colab-df-quickchart\" onclick=\"quickchart('df-f0a520ee-3a55-4d2f-80d0-4b36a268ade0')\"\n",
              "                title=\"Suggest charts\"\n",
              "                style=\"display:none;\">\n",
              "\n",
              "<svg xmlns=\"http://www.w3.org/2000/svg\" height=\"24px\"viewBox=\"0 0 24 24\"\n",
              "     width=\"24px\">\n",
              "    <g>\n",
              "        <path d=\"M19 3H5c-1.1 0-2 .9-2 2v14c0 1.1.9 2 2 2h14c1.1 0 2-.9 2-2V5c0-1.1-.9-2-2-2zM9 17H7v-7h2v7zm4 0h-2V7h2v10zm4 0h-2v-4h2v4z\"/>\n",
              "    </g>\n",
              "</svg>\n",
              "      </button>\n",
              "\n",
              "<style>\n",
              "  .colab-df-quickchart {\n",
              "      --bg-color: #E8F0FE;\n",
              "      --fill-color: #1967D2;\n",
              "      --hover-bg-color: #E2EBFA;\n",
              "      --hover-fill-color: #174EA6;\n",
              "      --disabled-fill-color: #AAA;\n",
              "      --disabled-bg-color: #DDD;\n",
              "  }\n",
              "\n",
              "  [theme=dark] .colab-df-quickchart {\n",
              "      --bg-color: #3B4455;\n",
              "      --fill-color: #D2E3FC;\n",
              "      --hover-bg-color: #434B5C;\n",
              "      --hover-fill-color: #FFFFFF;\n",
              "      --disabled-bg-color: #3B4455;\n",
              "      --disabled-fill-color: #666;\n",
              "  }\n",
              "\n",
              "  .colab-df-quickchart {\n",
              "    background-color: var(--bg-color);\n",
              "    border: none;\n",
              "    border-radius: 50%;\n",
              "    cursor: pointer;\n",
              "    display: none;\n",
              "    fill: var(--fill-color);\n",
              "    height: 32px;\n",
              "    padding: 0;\n",
              "    width: 32px;\n",
              "  }\n",
              "\n",
              "  .colab-df-quickchart:hover {\n",
              "    background-color: var(--hover-bg-color);\n",
              "    box-shadow: 0 1px 2px rgba(60, 64, 67, 0.3), 0 1px 3px 1px rgba(60, 64, 67, 0.15);\n",
              "    fill: var(--button-hover-fill-color);\n",
              "  }\n",
              "\n",
              "  .colab-df-quickchart-complete:disabled,\n",
              "  .colab-df-quickchart-complete:disabled:hover {\n",
              "    background-color: var(--disabled-bg-color);\n",
              "    fill: var(--disabled-fill-color);\n",
              "    box-shadow: none;\n",
              "  }\n",
              "\n",
              "  .colab-df-spinner {\n",
              "    border: 2px solid var(--fill-color);\n",
              "    border-color: transparent;\n",
              "    border-bottom-color: var(--fill-color);\n",
              "    animation:\n",
              "      spin 1s steps(1) infinite;\n",
              "  }\n",
              "\n",
              "  @keyframes spin {\n",
              "    0% {\n",
              "      border-color: transparent;\n",
              "      border-bottom-color: var(--fill-color);\n",
              "      border-left-color: var(--fill-color);\n",
              "    }\n",
              "    20% {\n",
              "      border-color: transparent;\n",
              "      border-left-color: var(--fill-color);\n",
              "      border-top-color: var(--fill-color);\n",
              "    }\n",
              "    30% {\n",
              "      border-color: transparent;\n",
              "      border-left-color: var(--fill-color);\n",
              "      border-top-color: var(--fill-color);\n",
              "      border-right-color: var(--fill-color);\n",
              "    }\n",
              "    40% {\n",
              "      border-color: transparent;\n",
              "      border-right-color: var(--fill-color);\n",
              "      border-top-color: var(--fill-color);\n",
              "    }\n",
              "    60% {\n",
              "      border-color: transparent;\n",
              "      border-right-color: var(--fill-color);\n",
              "    }\n",
              "    80% {\n",
              "      border-color: transparent;\n",
              "      border-right-color: var(--fill-color);\n",
              "      border-bottom-color: var(--fill-color);\n",
              "    }\n",
              "    90% {\n",
              "      border-color: transparent;\n",
              "      border-bottom-color: var(--fill-color);\n",
              "    }\n",
              "  }\n",
              "</style>\n",
              "\n",
              "      <script>\n",
              "        async function quickchart(key) {\n",
              "          const quickchartButtonEl =\n",
              "            document.querySelector('#' + key + ' button');\n",
              "          quickchartButtonEl.disabled = true;  // To prevent multiple clicks.\n",
              "          quickchartButtonEl.classList.add('colab-df-spinner');\n",
              "          try {\n",
              "            const charts = await google.colab.kernel.invokeFunction(\n",
              "                'suggestCharts', [key], {});\n",
              "          } catch (error) {\n",
              "            console.error('Error during call to suggestCharts:', error);\n",
              "          }\n",
              "          quickchartButtonEl.classList.remove('colab-df-spinner');\n",
              "          quickchartButtonEl.classList.add('colab-df-quickchart-complete');\n",
              "        }\n",
              "        (() => {\n",
              "          let quickchartButtonEl =\n",
              "            document.querySelector('#df-f0a520ee-3a55-4d2f-80d0-4b36a268ade0 button');\n",
              "          quickchartButtonEl.style.display =\n",
              "            google.colab.kernel.accessAllowed ? 'block' : 'none';\n",
              "        })();\n",
              "      </script>\n",
              "    </div>\n",
              "\n",
              "  <div id=\"id_8ef39ee0-4c7b-40bf-81fb-bdf5bdf5a12c\">\n",
              "    <style>\n",
              "      .colab-df-generate {\n",
              "        background-color: #E8F0FE;\n",
              "        border: none;\n",
              "        border-radius: 50%;\n",
              "        cursor: pointer;\n",
              "        display: none;\n",
              "        fill: #1967D2;\n",
              "        height: 32px;\n",
              "        padding: 0 0 0 0;\n",
              "        width: 32px;\n",
              "      }\n",
              "\n",
              "      .colab-df-generate:hover {\n",
              "        background-color: #E2EBFA;\n",
              "        box-shadow: 0px 1px 2px rgba(60, 64, 67, 0.3), 0px 1px 3px 1px rgba(60, 64, 67, 0.15);\n",
              "        fill: #174EA6;\n",
              "      }\n",
              "\n",
              "      [theme=dark] .colab-df-generate {\n",
              "        background-color: #3B4455;\n",
              "        fill: #D2E3FC;\n",
              "      }\n",
              "\n",
              "      [theme=dark] .colab-df-generate:hover {\n",
              "        background-color: #434B5C;\n",
              "        box-shadow: 0px 1px 3px 1px rgba(0, 0, 0, 0.15);\n",
              "        filter: drop-shadow(0px 1px 2px rgba(0, 0, 0, 0.3));\n",
              "        fill: #FFFFFF;\n",
              "      }\n",
              "    </style>\n",
              "    <button class=\"colab-df-generate\" onclick=\"generateWithVariable('df_fix')\"\n",
              "            title=\"Generate code using this dataframe.\"\n",
              "            style=\"display:none;\">\n",
              "\n",
              "  <svg xmlns=\"http://www.w3.org/2000/svg\" height=\"24px\"viewBox=\"0 0 24 24\"\n",
              "       width=\"24px\">\n",
              "    <path d=\"M7,19H8.4L18.45,9,17,7.55,7,17.6ZM5,21V16.75L18.45,3.32a2,2,0,0,1,2.83,0l1.4,1.43a1.91,1.91,0,0,1,.58,1.4,1.91,1.91,0,0,1-.58,1.4L9.25,21ZM18.45,9,17,7.55Zm-12,3A5.31,5.31,0,0,0,4.9,8.1,5.31,5.31,0,0,0,1,6.5,5.31,5.31,0,0,0,4.9,4.9,5.31,5.31,0,0,0,6.5,1,5.31,5.31,0,0,0,8.1,4.9,5.31,5.31,0,0,0,12,6.5,5.46,5.46,0,0,0,6.5,12Z\"/>\n",
              "  </svg>\n",
              "    </button>\n",
              "    <script>\n",
              "      (() => {\n",
              "      const buttonEl =\n",
              "        document.querySelector('#id_8ef39ee0-4c7b-40bf-81fb-bdf5bdf5a12c button.colab-df-generate');\n",
              "      buttonEl.style.display =\n",
              "        google.colab.kernel.accessAllowed ? 'block' : 'none';\n",
              "\n",
              "      buttonEl.onclick = () => {\n",
              "        google.colab.notebook.generateWithVariable('df_fix');\n",
              "      }\n",
              "      })();\n",
              "    </script>\n",
              "  </div>\n",
              "\n",
              "    </div>\n",
              "  </div>\n"
            ],
            "application/vnd.google.colaboratory.intrinsic+json": {
              "type": "dataframe",
              "variable_name": "df_fix"
            }
          },
          "metadata": {},
          "execution_count": 14
        }
      ]
    },
    {
      "cell_type": "code",
      "source": [
        "!pip install nltk\n",
        "!pip install Sastrawi"
      ],
      "metadata": {
        "colab": {
          "base_uri": "https://localhost:8080/"
        },
        "id": "vi9xmVq-oPj_",
        "outputId": "a2723e91-125d-493a-9e14-6b8105b50ade"
      },
      "execution_count": null,
      "outputs": [
        {
          "output_type": "stream",
          "name": "stdout",
          "text": [
            "Requirement already satisfied: nltk in /usr/local/lib/python3.11/dist-packages (3.9.1)\n",
            "Requirement already satisfied: click in /usr/local/lib/python3.11/dist-packages (from nltk) (8.2.1)\n",
            "Requirement already satisfied: joblib in /usr/local/lib/python3.11/dist-packages (from nltk) (1.5.1)\n",
            "Requirement already satisfied: regex>=2021.8.3 in /usr/local/lib/python3.11/dist-packages (from nltk) (2024.11.6)\n",
            "Requirement already satisfied: tqdm in /usr/local/lib/python3.11/dist-packages (from nltk) (4.67.1)\n",
            "Collecting Sastrawi\n",
            "  Downloading Sastrawi-1.0.1-py2.py3-none-any.whl.metadata (909 bytes)\n",
            "Downloading Sastrawi-1.0.1-py2.py3-none-any.whl (209 kB)\n",
            "\u001b[2K   \u001b[90m━━━━━━━━━━━━━━━━━━━━━━━━━━━━━━━━━━━━━━━━\u001b[0m \u001b[32m209.7/209.7 kB\u001b[0m \u001b[31m2.7 MB/s\u001b[0m eta \u001b[36m0:00:00\u001b[0m\n",
            "\u001b[?25hInstalling collected packages: Sastrawi\n",
            "Successfully installed Sastrawi-1.0.1\n"
          ]
        }
      ]
    },
    {
      "cell_type": "markdown",
      "source": [
        "# PRE-PROCESSING LANJUTAN : MENGHAPUS STOPWORDS DAN STEMMING"
      ],
      "metadata": {
        "id": "EHhKkSFXC2CA"
      }
    },
    {
      "cell_type": "code",
      "source": [
        "import nltk\n",
        "from nltk.corpus import stopwords\n",
        "from Sastrawi.Stemmer.StemmerFactory import StemmerFactory\n",
        "import pandas as pd\n",
        "\n",
        "# Download dan siapkan daftar stopwords Bahasa Indonesia\n",
        "try:\n",
        "    stopwords.words('indonesian')\n",
        "except:\n",
        "    nltk.download('stopwords')\n",
        "\n",
        "stop_words = set(stopwords.words('indonesian'))\n",
        "\n",
        "# Fungsi untuk menghapus stopwords\n",
        "def hapus_stopwords(teks):\n",
        "    tokens = teks.split()\n",
        "    tokens_bersih = [kata for kata in tokens if kata not in stop_words]\n",
        "    return ' '.join(tokens_bersih)\n",
        "\n",
        "# 3. Buat factory dan stemmer\n",
        "factory = StemmerFactory()\n",
        "stemmer = factory.create_stemmer()\n",
        "\n",
        "# 4. Buat fungsi untuk stemming\n",
        "def stem_teks(teks):\n",
        "    return stemmer.stem(teks)\n",
        "\n",
        "# Pengaplikasian ke dataset df_fix\n",
        "\n",
        "print(\"Memulai proses preprocessing lanjutan\")\n",
        "\n",
        "# Penghapusan stopwords pada kolom 'Judul'\n",
        "print(\"Menghapus stopwords...\")\n",
        "df_fix['Judul_bersih'] = df_fix['Judul'].apply(hapus_stopwords)\n",
        "\n",
        "# Penerapan stemming pada kolom yang sudah bersih dari stopwords\n",
        "print(\"Melakukan stemming...\")\n",
        "df_fix['Judul_stemmed'] = df_fix['Judul_bersih'].apply(stem_teks)\n",
        "\n",
        "print(\"Proses preprocessing selesai.\")"
      ],
      "metadata": {
        "colab": {
          "base_uri": "https://localhost:8080/"
        },
        "id": "VFKe_rouoARo",
        "outputId": "d597f8f1-b606-46ca-d8b9-45e1f08c94ee"
      },
      "execution_count": null,
      "outputs": [
        {
          "output_type": "stream",
          "name": "stderr",
          "text": [
            "[nltk_data] Downloading package stopwords to /root/nltk_data...\n",
            "[nltk_data]   Unzipping corpora/stopwords.zip.\n"
          ]
        },
        {
          "output_type": "stream",
          "name": "stdout",
          "text": [
            "Memulai proses preprocessing lanjutan\n",
            "Menghapus stopwords...\n",
            "Melakukan stemming...\n",
            "Proses preprocessing selesai.\n"
          ]
        }
      ]
    },
    {
      "cell_type": "code",
      "source": [
        "df_fix['Label'].unique()"
      ],
      "metadata": {
        "colab": {
          "base_uri": "https://localhost:8080/"
        },
        "id": "imROGRV9s5QL",
        "outputId": "7ee5f698-6212-4e06-ce64-543495e2cd45"
      },
      "execution_count": null,
      "outputs": [
        {
          "output_type": "execute_result",
          "data": {
            "text/plain": [
              "array([1, 3, 4, 6, 7, 9, 0, 2, 5, 8])"
            ]
          },
          "metadata": {},
          "execution_count": 17
        }
      ]
    },
    {
      "cell_type": "markdown",
      "source": [
        "Splitting data"
      ],
      "metadata": {
        "id": "aIpOPYtrFGmW"
      }
    },
    {
      "cell_type": "code",
      "source": [
        "from sklearn.feature_extraction.text import TfidfVectorizer\n",
        "from sklearn.model_selection import train_test_split\n",
        "\n",
        "X = df_fix['Judul_stemmed']\n",
        "y = df_fix['Label']\n",
        "\n",
        "# Membagi data menjadi 80% data latih dan 20% data uji\n",
        "X_train, X_test, y_train, y_test = train_test_split(X, y, stratify=y, test_size=0.2, random_state=42)\n",
        "\n",
        "vectorizer = TfidfVectorizer(ngram_range=(1, 2), max_features=5000)  # Mempertimbangkan kata tunggal (unigram, ngram=1) dan pasangan dua kata (bigram, ngram=2)\n",
        "\n",
        "# Menerapkan vektorisasi pada data\n",
        "X_train_tfidf = vectorizer.fit_transform(X_train)\n",
        "X_test_tfidf = vectorizer.transform(X_test)"
      ],
      "metadata": {
        "id": "qR0hF6-CtKGH"
      },
      "execution_count": null,
      "outputs": []
    },
    {
      "cell_type": "markdown",
      "source": [
        "Tuning dan evaluasi"
      ],
      "metadata": {
        "id": "WxDKRV_eFCWy"
      }
    },
    {
      "cell_type": "code",
      "source": [
        "# TUNING MENGGUNAKAN GRIDSEARCHCV ---\n",
        "\n",
        "from sklearn.feature_extraction.text import TfidfVectorizer\n",
        "from sklearn.svm import LinearSVC\n",
        "from sklearn.pipeline import Pipeline\n",
        "from sklearn.model_selection import GridSearchCV\n",
        "from sklearn.metrics import classification_report\n",
        "\n",
        "# Pipeline menggabungkan beberapa langkah (vektorisasi dan klasifikasi) menjadi satu.\n",
        "pipeline = Pipeline([\n",
        "    ('tfidf', TfidfVectorizer()),\n",
        "    ('clf', LinearSVC(random_state=42, max_iter=2000)), # clf adalah singkatan dari classifier\n",
        "])\n",
        "\n",
        "# Tentukan 'kisi-kisi' parameter yang ingin diuji\n",
        "# Format: 'nama_langkah__nama_parameter'\n",
        "parameters = {\n",
        "    'tfidf__ngram_range': [(1, 1), (1, 2)],  # Coba unigram saja, dan unigram+bigram\n",
        "    'tfidf__max_df': [0.95, 1.0],           # Abaikan kata yang muncul di > 95% dokumen\n",
        "    'tfidf__min_df': [1, 5],                # Abaikan kata yang muncul kurang dari 5 kali\n",
        "    'clf__C': [0.1, 1, 10],                 # Parameter regularisasi untuk LinearSVC\n",
        "}\n",
        "\n",
        "# jalankan GridSearchCV\n",
        "# cv=3 berarti menggunakan 3-fold cross-validation\n",
        "grid_search = GridSearchCV(pipeline, parameters, cv=3, n_jobs=-1, verbose=2, scoring='accuracy')\n",
        "\n",
        "print(\"Memulai proses Grid Search...\")\n",
        "# Gunakan data latih (X_train, y_train)\n",
        "grid_search.fit(X_train, y_train)\n",
        "\n",
        "# Menampilkan hasil terbaik\n",
        "print(\"\\nParameter terbaik yang ditemukan:\")\n",
        "print(grid_search.best_params_)\n",
        "\n",
        "print(\"\\nAkurasi cross-validation terbaik:\")\n",
        "print(grid_search.best_score_)\n",
        "print(\"-\" * 50)\n",
        "\n",
        "# Evaluasi model terbaik pada data uji\n",
        "print(\"Laporan klasifikasi pada data uji menggunakan model terbaik:\")\n",
        "best_model = grid_search.best_estimator_\n",
        "y_pred = best_model.predict(X_test)\n",
        "\n",
        "print(classification_report(y_test, y_pred))"
      ],
      "metadata": {
        "colab": {
          "base_uri": "https://localhost:8080/"
        },
        "id": "oB7K48XAzIIe",
        "outputId": "b451e907-2534-4933-a906-57b71d0f378e"
      },
      "execution_count": null,
      "outputs": [
        {
          "output_type": "stream",
          "name": "stdout",
          "text": [
            "Memulai proses Grid Search...\n",
            "Fitting 3 folds for each of 24 candidates, totalling 72 fits\n",
            "\n",
            "Parameter terbaik yang ditemukan:\n",
            "{'clf__C': 10, 'tfidf__max_df': 0.95, 'tfidf__min_df': 1, 'tfidf__ngram_range': (1, 2)}\n",
            "\n",
            "Akurasi cross-validation terbaik:\n",
            "0.8395462144311864\n",
            "--------------------------------------------------\n",
            "Laporan klasifikasi pada data uji menggunakan model terbaik:\n",
            "              precision    recall  f1-score   support\n",
            "\n",
            "           0       0.88      0.86      0.87      3210\n",
            "           1       0.88      0.86      0.87      3240\n",
            "           2       0.86      0.87      0.87      3240\n",
            "           3       0.86      0.86      0.86      3240\n",
            "           4       0.87      0.86      0.86      3240\n",
            "           5       0.87      0.88      0.87      3236\n",
            "           6       0.87      0.85      0.86      3240\n",
            "           7       0.89      0.89      0.89      3210\n",
            "           8       0.87      0.89      0.88      3210\n",
            "           9       0.86      0.87      0.86      3240\n",
            "\n",
            "    accuracy                           0.87     32306\n",
            "   macro avg       0.87      0.87      0.87     32306\n",
            "weighted avg       0.87      0.87      0.87     32306\n",
            "\n"
          ]
        }
      ]
    },
    {
      "cell_type": "markdown",
      "source": [
        "# IMPLEMENTASI PELATIHAN DATA MENGGUNAKAN MODEL DENGAN PARAMETER TERBAIK"
      ],
      "metadata": {
        "id": "wLoYUoLFsgms"
      }
    },
    {
      "cell_type": "code",
      "source": [
        "from sklearn.pipeline import Pipeline\n",
        "from sklearn.feature_extraction.text import TfidfVectorizer\n",
        "from sklearn.svm import LinearSVC\n",
        "from sklearn.metrics import classification_report\n",
        "\n",
        "final_model = Pipeline([\n",
        "    ('tfidf', TfidfVectorizer(ngram_range=(1, 2), max_df=0.95, min_df=1)),\n",
        "    ('clf', LinearSVC(C=10, random_state=42, max_iter=2000)) # random_state untuk konsistensi\n",
        "])\n",
        "\n",
        "print(\"Memulai pelatihan model final...\")\n",
        "final_model.fit(X_train, y_train)\n",
        "print(\"Pelatihan selesai.\")\n",
        "print(\"-\" * 50)\n",
        "\n",
        "# Evaluasi model final pada data uji.\n",
        "print(\"Laporan klasifikasi pada data uji:\")\n",
        "y_pred = final_model.predict(X_test)\n",
        "print(classification_report(y_test, y_pred))"
      ],
      "metadata": {
        "colab": {
          "base_uri": "https://localhost:8080/"
        },
        "id": "ldy7hzwetoZR",
        "outputId": "799afbc1-f632-4d0a-e6be-c4517da9d0c0"
      },
      "execution_count": null,
      "outputs": [
        {
          "output_type": "stream",
          "name": "stdout",
          "text": [
            "Memulai pelatihan model final...\n",
            "Pelatihan selesai.\n",
            "--------------------------------------------------\n",
            "Laporan klasifikasi pada data uji:\n",
            "              precision    recall  f1-score   support\n",
            "\n",
            "           0       0.88      0.86      0.87      3210\n",
            "           1       0.88      0.86      0.87      3240\n",
            "           2       0.86      0.87      0.87      3240\n",
            "           3       0.86      0.86      0.86      3240\n",
            "           4       0.87      0.86      0.86      3240\n",
            "           5       0.87      0.88      0.87      3236\n",
            "           6       0.87      0.85      0.86      3240\n",
            "           7       0.89      0.89      0.89      3210\n",
            "           8       0.87      0.89      0.88      3210\n",
            "           9       0.86      0.87      0.86      3240\n",
            "\n",
            "    accuracy                           0.87     32306\n",
            "   macro avg       0.87      0.87      0.87     32306\n",
            "weighted avg       0.87      0.87      0.87     32306\n",
            "\n"
          ]
        }
      ]
    },
    {
      "cell_type": "markdown",
      "source": [
        "Confusion Matrix"
      ],
      "metadata": {
        "id": "c6lnl5u9FWm1"
      }
    },
    {
      "cell_type": "code",
      "source": [
        "from sklearn.metrics import confusion_matrix\n",
        "import seaborn as sns\n",
        "import matplotlib.pyplot as plt\n",
        "\n",
        "cm = confusion_matrix(y_test, y_pred)\n",
        "sns.heatmap(cm, annot=True, fmt='d', cmap='Blues')\n",
        "plt.xlabel('Predicted'); plt.ylabel('Actual')\n",
        "plt.show()"
      ],
      "metadata": {
        "id": "0r_lOp9sqArj",
        "colab": {
          "base_uri": "https://localhost:8080/",
          "height": 449
        },
        "outputId": "d8351882-7262-4a2b-80b9-ce73ebdcb589"
      },
      "execution_count": null,
      "outputs": [
        {
          "output_type": "display_data",
          "data": {
            "text/plain": [
              "<Figure size 640x480 with 2 Axes>"
            ],
            "image/png": "[encoded data removed]"
          },
          "metadata": {}
        }
      ]
    },
    {
      "cell_type": "markdown",
      "source": [
        "Tes pengujian baru"
      ],
      "metadata": {
        "id": "t41pd5nwFY2X"
      }
    },
    {
      "cell_type": "code",
      "source": [
        "# --- PENGUJIAN DATA BARU MENGGUNAKAN MODEL TERBAIK DARI GRIDSEARCH ---\n",
        "\n",
        "judul_buku_baru = [\n",
        "    \"Manajemen Keuangan Negara\",\n",
        "    \"Puisi-Puisi Pilihan Chairil Anwar\",\n",
        "    \"Panduan Lengkap Jaringan Komputer dan Mikrotik\",\n",
        "    \"Gugatan Sederhana dan Praktik Peradilan di Indonesia\",\n",
        "    \"Atlas Anatomi Manusia dan Fisiologi Dasar\",\n",
        "    \"Perubahan Sentimen pada Politik Indonesia edisi 1\"\n",
        "]\n",
        "\n",
        "print(\"Judul Buku Baru untuk Dites:\")\n",
        "for judul in judul_buku_baru:\n",
        "    print(f\"- {judul}\")\n",
        "print(\"-\" * 50)\n",
        "\n",
        "# Terapkan keseluruhan pipeline preprocessing pada data baru\n",
        "print(\"Menerapkan preprocessing pada data baru...\")\n",
        "judul_preprocess_baru = [stem_teks(hapus_stopwords(bersihkan(judul))) for judul in judul_buku_baru]\n",
        "\n",
        "print(\"Data baru setelah preprocessing:\", judul_preprocess_baru)\n",
        "print(\"-\" * 50)\n",
        "\n",
        "\n",
        "# prediksi menggunakan objek grid_search yang sudah dilatih\n",
        "prediksi_kategori = grid_search.predict(judul_preprocess_baru)\n",
        "\n",
        "print(\"\\nHasil Prediksi Kategori:\")\n",
        "for judul, kategori in zip(judul_buku_baru, prediksi_kategori):\n",
        "    print(f\"Judul: '{judul}'  ==>  Prediksi Kategori: {kategori}\")"
      ],
      "metadata": {
        "colab": {
          "base_uri": "https://localhost:8080/"
        },
        "id": "togU21Aqx-zK",
        "outputId": "0f88c9b1-952e-4d7a-8333-195e77797831"
      },
      "execution_count": null,
      "outputs": [
        {
          "output_type": "stream",
          "name": "stdout",
          "text": [
            "Judul Buku Baru untuk Dites:\n",
            "- Manajemen Keuangan Negara\n",
            "- Puisi-Puisi Pilihan Chairil Anwar\n",
            "- Panduan Lengkap Jaringan Komputer dan Mikrotik\n",
            "- Gugatan Sederhana dan Praktik Peradilan di Indonesia\n",
            "- Atlas Anatomi Manusia dan Fisiologi Dasar\n",
            "- Perubahan Sentimen pada Politik Indonesia edisi 1\n",
            "--------------------------------------------------\n",
            "Menerapkan preprocessing pada data baru...\n",
            "Data baru setelah preprocessing: ['manajemen uang negara', 'puisipuisi pilih chairil anwar', 'pandu lengkap jaring komputer mikrotik', 'gugat sederhana praktik adil indonesia', 'atlas anatomi manusia fisiologi dasar', 'ubah sentimen politik indonesia edisi']\n",
            "--------------------------------------------------\n",
            "\n",
            "Hasil Prediksi Kategori:\n",
            "Judul: 'Manajemen Keuangan Negara'  ==>  Prediksi Kategori: 5\n",
            "Judul: 'Puisi-Puisi Pilihan Chairil Anwar'  ==>  Prediksi Kategori: 6\n",
            "Judul: 'Panduan Lengkap Jaringan Komputer dan Mikrotik'  ==>  Prediksi Kategori: 0\n",
            "Judul: 'Gugatan Sederhana dan Praktik Peradilan di Indonesia'  ==>  Prediksi Kategori: 9\n",
            "Judul: 'Atlas Anatomi Manusia dan Fisiologi Dasar'  ==>  Prediksi Kategori: 2\n",
            "Judul: 'Perubahan Sentimen pada Politik Indonesia edisi 1'  ==>  Prediksi Kategori: 7\n"
          ]
        }
      ]
    }
  ]
}